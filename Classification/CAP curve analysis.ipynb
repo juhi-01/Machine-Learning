{
 "cells": [
  {
   "cell_type": "code",
   "execution_count": 1,
   "metadata": {},
   "outputs": [],
   "source": [
    "#CAP = Cumulative accuracy profile"
   ]
  },
  {
   "cell_type": "markdown",
   "metadata": {},
   "source": [
    "Random line (average model) | Model Line | Perfect model (Cystal ball)"
   ]
  },
  {
   "cell_type": "markdown",
   "metadata": {},
   "source": [
    "The closer the model line is to perfect model line, the model is better \n",
    "\n",
    "The closer the model line is to random line, the model is worsening"
   ]
  },
  {
   "cell_type": "markdown",
   "metadata": {},
   "source": [
    "Accuracy ratio calculation\n",
    "\n",
    "Area under perfect model (Ap) = area between perfect model and random line\n",
    "Area under Model line (Ar) = Area between model line and random model line \n",
    "\n",
    "AR = Ar/Ap \n",
    "the closer AR is to zero, it is better"
   ]
  },
  {
   "cell_type": "markdown",
   "metadata": {},
   "source": [
    "Second approach:\n",
    "    \n",
    "    Choose X at 50%:\n",
    "        if Y <60%  ==> Rubbish model\n",
    "        if 60% < Y < 70% ==> Poor model\n",
    "        if 70% < Y < 80% ==> Good Model\n",
    "        if 80% < Y < 90% ==> Very good model\n",
    "        if 90% < Y < 100% ==> Too good to believe -- risk of overfitting -- or check if there are any forward looking variable"
   ]
  },
  {
   "cell_type": "markdown",
   "metadata": {},
   "source": [
    "Question: Which classification model to select when?"
   ]
  },
  {
   "cell_type": "markdown",
   "metadata": {},
   "source": [
    "If your problem is linear, you should go for Logistic Regression or SVM.\n",
    "\n",
    "If your problem is non linear, you should go for K-NN, Naive Bayes, Decision Tree or Random Forest.\n",
    "\n",
    "Then from a business point of view, you would rather use:\n",
    "\n",
    "-Logistic Regression or Naive Bayes when you want to rank your predictions by their probability. For example if you want to rank your customers from the highest probability that they buy a certain product, to the lowest probability. Eventually that allows you to target your marketing campaigns. And of course for this type of business problem, you should use Logistic Regression if your problem is linear, and Naive Bayes if your problem is non linear.\n",
    "\n",
    "- SVM when you want to predict to which segment your customers belong to. Segments can be any kind of segments, for example some market segments you identified earlier with clustering.\n",
    "\n",
    "- Decision Tree when you want to have clear interpretation of your model results,\n",
    "\n",
    "- Random Forest when you are just looking for high performance with less need for interpretation. "
   ]
  }
 ],
 "metadata": {
  "kernelspec": {
   "display_name": "Python 3",
   "language": "python",
   "name": "python3"
  },
  "language_info": {
   "codemirror_mode": {
    "name": "ipython",
    "version": 3
   },
   "file_extension": ".py",
   "mimetype": "text/x-python",
   "name": "python",
   "nbconvert_exporter": "python",
   "pygments_lexer": "ipython3",
   "version": "3.7.1"
  }
 },
 "nbformat": 4,
 "nbformat_minor": 2
}
