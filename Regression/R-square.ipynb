{
 "cells": [
  {
   "cell_type": "markdown",
   "metadata": {},
   "source": [
    "sum (actual - predicted)^2 ---> minimize"
   ]
  },
  {
   "cell_type": "markdown",
   "metadata": {},
   "source": [
    "Sum of square residuals, SSres = SUM (Yi - Yi`)^2"
   ]
  },
  {
   "cell_type": "markdown",
   "metadata": {},
   "source": [
    "Sum of square total, SStot = SUM (Yi - Yavg)^2"
   ]
  },
  {
   "cell_type": "markdown",
   "metadata": {},
   "source": [
    "R2 = 1 - (SSres / SStot)"
   ]
  },
  {
   "cell_type": "markdown",
   "metadata": {},
   "source": [
    "R2 tells you how better your model is with respect to the average line that goes through the Y"
   ]
  },
  {
   "cell_type": "markdown",
   "metadata": {},
   "source": [
    "R2 can be negative when SSres fits data worse than SStot - which is difficult to do, but yes it is possible.\n",
    "normally R2 is between 0 and 1"
   ]
  },
  {
   "cell_type": "markdown",
   "metadata": {},
   "source": [
    "Question: what will happen if you add more variables to the model? Can R2 decrease?\n",
    "\n",
    "-- R2 can never decrease because if your variable is not impactful, your model will make the coefficient of that variable near to 0. Near to 0 and not 0 because there will always be some random amount of corelation between the variable and target variable\n",
    "\n",
    "--So R2 will increase or will not change if we add more predictors or variables to the model\n",
    "\n",
    "--hence the R2 is biased because you can keep adding the variables, but your R2 won't decrease and tell you if those variables are significant or not. \n",
    "\n",
    "-- And that is why we need Adjusted R2"
   ]
  },
  {
   "cell_type": "markdown",
   "metadata": {},
   "source": [
    "Adjusted R2\n",
    "\n",
    "Adj R2 = 1 - (1-R2)*((n-1)/(n-p-1))\n",
    "where,  n = sample size\n",
    "        p = number of regressors*\n",
    "\n",
    "--Adj R2 has a penalization factor. Hence if variable is not helped the model, the penalization factor p will bring the model down."
   ]
  },
  {
   "cell_type": "code",
   "execution_count": null,
   "metadata": {},
   "outputs": [],
   "source": []
  }
 ],
 "metadata": {
  "kernelspec": {
   "display_name": "Python 3",
   "language": "python",
   "name": "python3"
  },
  "language_info": {
   "codemirror_mode": {
    "name": "ipython",
    "version": 3
   },
   "file_extension": ".py",
   "mimetype": "text/x-python",
   "name": "python",
   "nbconvert_exporter": "python",
   "pygments_lexer": "ipython3",
   "version": "3.7.1"
  }
 },
 "nbformat": 4,
 "nbformat_minor": 2
}
