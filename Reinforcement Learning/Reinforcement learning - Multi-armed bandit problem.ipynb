{
 "cells": [
  {
   "cell_type": "markdown",
   "metadata": {},
   "source": [
    "#Reinforcement learning \n",
    "Where is it used : \n",
    "    to train robot dog run\n",
    "    Traffic light control\n",
    "    Personalized recommendations\n",
    "    Bidding and Advertising\n",
    "    Games, etc"
   ]
  },
  {
   "cell_type": "markdown",
   "metadata": {},
   "source": [
    "Explanation: \n",
    "    One-armed bandit = slot machine\n",
    "    multi-armed bandit - multiple slot machines\n",
    "\n",
    "Problem: How do you play to maximize your return? Which one to play\n",
    "Each machine has a distribution. but you don't know in advance these distribution. \n",
    "Goal is to figure out which of these distribution is the best for you"
   ]
  },
  {
   "cell_type": "markdown",
   "metadata": {},
   "source": [
    "Exploration and Exploitation - you need to explore the machine to know your findings and you need to, as soon as you can, exploit these machines using your findings "
   ]
  },
  {
   "cell_type": "markdown",
   "metadata": {},
   "source": [
    "Regret - when you are using the non-optimal machine. Longer you explore machines, higher is the regret. If on the other hand if you explore it long enough, sub-optimal machine might seem the best optimal machine"
   ]
  },
  {
   "cell_type": "markdown",
   "metadata": {},
   "source": [
    "- Assumption: The distribution is finite"
   ]
  },
  {
   "cell_type": "code",
   "execution_count": null,
   "metadata": {},
   "outputs": [],
   "source": []
  }
 ],
 "metadata": {
  "kernelspec": {
   "display_name": "Python 3",
   "language": "python",
   "name": "python3"
  },
  "language_info": {
   "codemirror_mode": {
    "name": "ipython",
    "version": 3
   },
   "file_extension": ".py",
   "mimetype": "text/x-python",
   "name": "python",
   "nbconvert_exporter": "python",
   "pygments_lexer": "ipython3",
   "version": "3.7.1"
  }
 },
 "nbformat": 4,
 "nbformat_minor": 2
}
